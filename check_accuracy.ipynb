{
 "cells": [
  {
   "cell_type": "markdown",
   "id": "c49afb14-7430-47f8-8223-e88775abf392",
   "metadata": {},
   "source": [
    "### Prediction from Validation dataset"
   ]
  },
  {
   "cell_type": "code",
   "execution_count": null,
   "id": "9d011a78-79f4-433a-b6ba-daba101cc864",
   "metadata": {},
   "outputs": [],
   "source": [
    "import torch\n",
    "from torchvision import models, transforms\n",
    "from PIL import Image\n",
    "import torch.nn as nn\n",
    "import torch.optim as optim\n",
    "from torchvision import datasets, transforms, models\n",
    "import os\n",
    "\n",
    "# Load the saved model\n",
    "model = models.resnet18(pretrained=True)\n",
    "model.fc = nn.Linear(model.fc.in_features, 1000)  # Adjust to match the original model's output units\n",
    "model.load_state_dict(torch.load('flower_classification_model.pth'))\n",
    "model.eval()\n",
    "\n",
    "# Create a new model with the correct final layer\n",
    "new_model = models.resnet18(pretrained=True)\n",
    "new_model.fc = nn.Linear(new_model.fc.in_features, 2)  # Adjust to match the desired output units\n",
    "\n",
    "# Copy the weights and biases from the loaded model to the new model\n",
    "new_model.fc.weight.data = model.fc.weight.data[0:2]  # Copy only the first 2 output units\n",
    "new_model.fc.bias.data = model.fc.bias.data[0:2]\n"
   ]
  },
  {
   "cell_type": "code",
   "execution_count": null,
   "id": "17ccd095-0ad0-4f3e-9ba2-a095023548ff",
   "metadata": {},
   "outputs": [],
   "source": [
    "import numpy as np\n",
    "import matplotlib.pyplot as plt\n",
    "from PIL import Image\n",
    "import datetime\n",
    "\n",
    "start_time = datetime.datetime.now()\n",
    "# Display the image with the predicted class name\n",
    "def image_show(image):\n",
    "    image = np.array(image)\n",
    "    plt.imshow(image)\n",
    "    plt.axis('off')\n",
    "    plt.text(10, 10, f'Predicted: {predicted_class_name}', fontsize=12, color='white', backgroundcolor='red')\n",
    "    plt.show()\n",
    "\n",
    "total_correct = 0\n",
    "total_images = 0\n",
    "\n",
    "# Iterate through the dataset\n",
    "for true_class in os.listdir('dataset/val/'):  # Assuming dataset is a list of tuples containing image paths and true labels\n",
    "    for file_name in os.listdir(f'dataset/val/{true_class}'):\n",
    "        image = Image.open(f'dataset/val/{true_class}/{file_name}')\n",
    "\n",
    "        preprocess = transforms.Compose([\n",
    "            transforms.Resize(256),\n",
    "            transforms.CenterCrop(224),\n",
    "            transforms.ToTensor(),\n",
    "            transforms.Normalize([0.485, 0.456, 0.406], [0.229, 0.224, 0.225])\n",
    "        ])\n",
    "        input_tensor = preprocess(image)\n",
    "        input_batch = input_tensor.unsqueeze(0)\n",
    "    \n",
    "        # Perform inference\n",
    "        with torch.no_grad():\n",
    "            output = model(input_batch)\n",
    "        \n",
    "        # Get the predicted class\n",
    "        _, predicted_class = output.max(1)\n",
    "        \n",
    "        # Check if prediction is correct\n",
    "        predicted_class_name = class_names[predicted_class.item()]\n",
    "        if predicted_class_name == true_class:\n",
    "            image_show(image)\n",
    "            total_correct += 1\n",
    "        \n",
    "        total_images += 1\n",
    "\n",
    "end_time = datetime.datetime.now()"
   ]
  }
 ],
 "metadata": {
  "kernelspec": {
   "display_name": "Python 3 (ipykernel)",
   "language": "python",
   "name": "python3"
  },
  "language_info": {
   "codemirror_mode": {
    "name": "ipython",
    "version": 3
   },
   "file_extension": ".py",
   "mimetype": "text/x-python",
   "name": "python",
   "nbconvert_exporter": "python",
   "pygments_lexer": "ipython3",
   "version": "3.12.1"
  }
 },
 "nbformat": 4,
 "nbformat_minor": 5
}
